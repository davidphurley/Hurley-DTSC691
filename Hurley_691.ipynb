{
 "cells": [
  {
   "cell_type": "markdown",
   "metadata": {},
   "source": [
    "Import packages"
   ]
  },
  {
   "cell_type": "code",
<<<<<<< HEAD
   "execution_count": 12,
=======
   "execution_count": 8,
>>>>>>> origin/main
   "metadata": {},
   "outputs": [
    {
     "name": "stdout",
     "output_type": "stream",
     "text": [
      "Requirement already satisfied: numpy in /home/daviid/.local/share/mamba/envs/dtsc691/lib/python3.9/site-packages (from -r Requirements.txt (line 1)) (2.0.2)\n",
      "Requirement already satisfied: pandas in /home/daviid/.local/share/mamba/envs/dtsc691/lib/python3.9/site-packages (from -r Requirements.txt (line 2)) (2.2.3)\n",
      "Requirement already satisfied: scikit-learn in /home/daviid/.local/share/mamba/envs/dtsc691/lib/python3.9/site-packages (from -r Requirements.txt (line 3)) (1.6.1)\n",
      "Requirement already satisfied: matplotlib in /home/daviid/.local/share/mamba/envs/dtsc691/lib/python3.9/site-packages (from -r Requirements.txt (line 4)) (3.9.4)\n",
<<<<<<< HEAD
      "Requirement already satisfied: requests in /home/daviid/.local/share/mamba/envs/dtsc691/lib/python3.9/site-packages (from -r Requirements.txt (line 5)) (2.32.3)\n",
      "Requirement already satisfied: datetime in /home/daviid/.local/share/mamba/envs/dtsc691/lib/python3.9/site-packages (from -r Requirements.txt (line 6)) (5.5)\n",
=======
      "Collecting requests (from -r Requirements.txt (line 5))\n",
      "  Using cached requests-2.32.3-py3-none-any.whl.metadata (4.6 kB)\n",
      "Collecting datetime (from -r Requirements.txt (line 6))\n",
      "  Downloading DateTime-5.5-py3-none-any.whl.metadata (33 kB)\n",
>>>>>>> origin/main
      "Requirement already satisfied: python-dateutil>=2.8.2 in /home/daviid/.local/share/mamba/envs/dtsc691/lib/python3.9/site-packages (from pandas->-r Requirements.txt (line 2)) (2.9.0.post0)\n",
      "Requirement already satisfied: pytz>=2020.1 in /home/daviid/.local/share/mamba/envs/dtsc691/lib/python3.9/site-packages (from pandas->-r Requirements.txt (line 2)) (2025.2)\n",
      "Requirement already satisfied: tzdata>=2022.7 in /home/daviid/.local/share/mamba/envs/dtsc691/lib/python3.9/site-packages (from pandas->-r Requirements.txt (line 2)) (2025.2)\n",
      "Requirement already satisfied: scipy>=1.6.0 in /home/daviid/.local/share/mamba/envs/dtsc691/lib/python3.9/site-packages (from scikit-learn->-r Requirements.txt (line 3)) (1.13.1)\n",
      "Requirement already satisfied: joblib>=1.2.0 in /home/daviid/.local/share/mamba/envs/dtsc691/lib/python3.9/site-packages (from scikit-learn->-r Requirements.txt (line 3)) (1.4.2)\n",
      "Requirement already satisfied: threadpoolctl>=3.1.0 in /home/daviid/.local/share/mamba/envs/dtsc691/lib/python3.9/site-packages (from scikit-learn->-r Requirements.txt (line 3)) (3.6.0)\n",
      "Requirement already satisfied: contourpy>=1.0.1 in /home/daviid/.local/share/mamba/envs/dtsc691/lib/python3.9/site-packages (from matplotlib->-r Requirements.txt (line 4)) (1.3.0)\n",
      "Requirement already satisfied: cycler>=0.10 in /home/daviid/.local/share/mamba/envs/dtsc691/lib/python3.9/site-packages (from matplotlib->-r Requirements.txt (line 4)) (0.12.1)\n",
      "Requirement already satisfied: fonttools>=4.22.0 in /home/daviid/.local/share/mamba/envs/dtsc691/lib/python3.9/site-packages (from matplotlib->-r Requirements.txt (line 4)) (4.56.0)\n",
      "Requirement already satisfied: kiwisolver>=1.3.1 in /home/daviid/.local/share/mamba/envs/dtsc691/lib/python3.9/site-packages (from matplotlib->-r Requirements.txt (line 4)) (1.4.7)\n",
      "Requirement already satisfied: packaging>=20.0 in /home/daviid/.local/share/mamba/envs/dtsc691/lib/python3.9/site-packages (from matplotlib->-r Requirements.txt (line 4)) (24.2)\n",
      "Requirement already satisfied: pillow>=8 in /home/daviid/.local/share/mamba/envs/dtsc691/lib/python3.9/site-packages (from matplotlib->-r Requirements.txt (line 4)) (11.2.0)\n",
      "Requirement already satisfied: pyparsing>=2.3.1 in /home/daviid/.local/share/mamba/envs/dtsc691/lib/python3.9/site-packages (from matplotlib->-r Requirements.txt (line 4)) (3.2.3)\n",
      "Requirement already satisfied: importlib-resources>=3.2.0 in /home/daviid/.local/share/mamba/envs/dtsc691/lib/python3.9/site-packages (from matplotlib->-r Requirements.txt (line 4)) (6.5.2)\n",
<<<<<<< HEAD
      "Requirement already satisfied: charset-normalizer<4,>=2 in /home/daviid/.local/share/mamba/envs/dtsc691/lib/python3.9/site-packages (from requests->-r Requirements.txt (line 5)) (3.4.1)\n",
      "Requirement already satisfied: idna<4,>=2.5 in /home/daviid/.local/share/mamba/envs/dtsc691/lib/python3.9/site-packages (from requests->-r Requirements.txt (line 5)) (3.10)\n",
      "Requirement already satisfied: urllib3<3,>=1.21.1 in /home/daviid/.local/share/mamba/envs/dtsc691/lib/python3.9/site-packages (from requests->-r Requirements.txt (line 5)) (2.3.0)\n",
      "Requirement already satisfied: certifi>=2017.4.17 in /home/daviid/.local/share/mamba/envs/dtsc691/lib/python3.9/site-packages (from requests->-r Requirements.txt (line 5)) (2025.1.31)\n",
      "Requirement already satisfied: zope.interface in /home/daviid/.local/share/mamba/envs/dtsc691/lib/python3.9/site-packages (from datetime->-r Requirements.txt (line 6)) (7.2)\n",
      "Requirement already satisfied: zipp>=3.1.0 in /home/daviid/.local/share/mamba/envs/dtsc691/lib/python3.9/site-packages (from importlib-resources>=3.2.0->matplotlib->-r Requirements.txt (line 4)) (3.21.0)\n",
      "Requirement already satisfied: six>=1.5 in /home/daviid/.local/share/mamba/envs/dtsc691/lib/python3.9/site-packages (from python-dateutil>=2.8.2->pandas->-r Requirements.txt (line 2)) (1.17.0)\n",
      "Requirement already satisfied: setuptools in /home/daviid/.local/share/mamba/envs/dtsc691/lib/python3.9/site-packages (from zope.interface->datetime->-r Requirements.txt (line 6)) (75.8.2)\n",
=======
      "Collecting charset-normalizer<4,>=2 (from requests->-r Requirements.txt (line 5))\n",
      "  Downloading charset_normalizer-3.4.1-cp39-cp39-manylinux_2_17_x86_64.manylinux2014_x86_64.whl.metadata (35 kB)\n",
      "Collecting idna<4,>=2.5 (from requests->-r Requirements.txt (line 5))\n",
      "  Downloading idna-3.10-py3-none-any.whl.metadata (10 kB)\n",
      "Collecting urllib3<3,>=1.21.1 (from requests->-r Requirements.txt (line 5))\n",
      "  Downloading urllib3-2.3.0-py3-none-any.whl.metadata (6.5 kB)\n",
      "Collecting certifi>=2017.4.17 (from requests->-r Requirements.txt (line 5))\n",
      "  Downloading certifi-2025.1.31-py3-none-any.whl.metadata (2.5 kB)\n",
      "Collecting zope.interface (from datetime->-r Requirements.txt (line 6))\n",
      "  Downloading zope.interface-7.2-cp39-cp39-manylinux_2_5_x86_64.manylinux1_x86_64.manylinux_2_17_x86_64.manylinux2014_x86_64.whl.metadata (44 kB)\n",
      "Requirement already satisfied: zipp>=3.1.0 in /home/daviid/.local/share/mamba/envs/dtsc691/lib/python3.9/site-packages (from importlib-resources>=3.2.0->matplotlib->-r Requirements.txt (line 4)) (3.21.0)\n",
      "Requirement already satisfied: six>=1.5 in /home/daviid/.local/share/mamba/envs/dtsc691/lib/python3.9/site-packages (from python-dateutil>=2.8.2->pandas->-r Requirements.txt (line 2)) (1.17.0)\n",
      "Requirement already satisfied: setuptools in /home/daviid/.local/share/mamba/envs/dtsc691/lib/python3.9/site-packages (from zope.interface->datetime->-r Requirements.txt (line 6)) (75.8.2)\n",
      "Downloading requests-2.32.3-py3-none-any.whl (64 kB)\n",
      "Downloading DateTime-5.5-py3-none-any.whl (52 kB)\n",
      "Downloading certifi-2025.1.31-py3-none-any.whl (166 kB)\n",
      "Downloading charset_normalizer-3.4.1-cp39-cp39-manylinux_2_17_x86_64.manylinux2014_x86_64.whl (146 kB)\n",
      "Downloading idna-3.10-py3-none-any.whl (70 kB)\n",
      "Downloading urllib3-2.3.0-py3-none-any.whl (128 kB)\n",
      "Downloading zope.interface-7.2-cp39-cp39-manylinux_2_5_x86_64.manylinux1_x86_64.manylinux_2_17_x86_64.manylinux2014_x86_64.whl (253 kB)\n",
      "Installing collected packages: zope.interface, urllib3, idna, charset-normalizer, certifi, requests, datetime\n",
      "Successfully installed certifi-2025.1.31 charset-normalizer-3.4.1 datetime-5.5 idna-3.10 requests-2.32.3 urllib3-2.3.0 zope.interface-7.2\n",
>>>>>>> origin/main
      "Note: you may need to restart the kernel to use updated packages.\n"
     ]
    }
   ],
   "source": [
    "pip install -r Requirements.txt"
   ]
  },
  {
   "cell_type": "code",
<<<<<<< HEAD
   "execution_count": 13,
=======
   "execution_count": null,
>>>>>>> origin/main
   "metadata": {},
   "outputs": [],
   "source": [
    "import pandas as pd\n",
    "import numpy as np\n",
    "import matplotlib as plt\n",
    "import json\n",
    "import datetime as dt\n",
    "import requests"
   ]
  },
  {
   "cell_type": "markdown",
   "metadata": {},
   "source": [
<<<<<<< HEAD
    "Create date range for S&P500"
=======
    "Create date range"
>>>>>>> origin/main
   ]
  },
  {
   "cell_type": "code",
<<<<<<< HEAD
   "execution_count": 14,
=======
   "execution_count": 46,
>>>>>>> origin/main
   "metadata": {},
   "outputs": [],
   "source": [
    "end_date = dt.datetime.now()\n",
<<<<<<< HEAD
    "start_date = dt.datetime(1900, 1, 1)"
=======
    "start_date = dt.datetime(1950, 1, 1)"
>>>>>>> origin/main
   ]
  },
  {
   "cell_type": "markdown",
   "metadata": {},
   "source": [
<<<<<<< HEAD
    "Connect to S&P500 API from RapidAPI and get S&P500 data"
=======
    "Connect to S&P500 API from RapidAPI"
>>>>>>> origin/main
   ]
  },
  {
   "cell_type": "code",
<<<<<<< HEAD
   "execution_count": 15,
   "metadata": {},
   "outputs": [],
   "source": [
    "# url = \"https://s-p-500-history-api.p.rapidapi.com/historical-stock-data.php\"\n",
    "\n",
    "# querystring = {\"interval\":\"day\",\"symbol\":\"^GSPC\",\"start\":start_date,\"end\":end_date}\n",
    "\n",
    "# headers = {\n",
    "# \t\"x-rapidapi-key\": \"1818711435msh7ff1e71cfe61ec4p1b64e1jsn32c289b7a487\",\n",
    "# \t\"x-rapidapi-host\": \"s-p-500-history-api.p.rapidapi.com\"\n",
    "# }\n",
    "\n",
    "# response = requests.get(url, headers=headers, params=querystring)\n"
=======
   "execution_count": 47,
   "metadata": {},
   "outputs": [],
   "source": [
    "url = \"https://s-p-500-history-api.p.rapidapi.com/historical-stock-data.php\"\n",
    "\n",
    "querystring = {\"interval\":\"day\",\"symbol\":\"^GSPC\",\"start\":start_date,\"end\":end_date}\n",
    "\n",
    "headers = {\n",
    "\t\"x-rapidapi-key\": \"1818711435msh7ff1e71cfe61ec4p1b64e1jsn32c289b7a487\",\n",
    "\t\"x-rapidapi-host\": \"s-p-500-history-api.p.rapidapi.com\"\n",
    "}\n",
    "\n",
    "response = requests.get(url, headers=headers, params=querystring)\n"
>>>>>>> origin/main
   ]
  },
  {
   "cell_type": "markdown",
   "metadata": {},
   "source": [
    "Extract the 'data' dictionary from the response"
   ]
  },
  {
   "cell_type": "code",
<<<<<<< HEAD
   "execution_count": 16,
=======
   "execution_count": 48,
   "metadata": {},
   "outputs": [
    {
     "data": {
      "application/vnd.microsoft.datawrangler.viewer.v0+json": {
       "columns": [
        {
         "name": "index",
         "rawType": "int64",
         "type": "integer"
        },
        {
         "name": "date_time",
         "rawType": "object",
         "type": "string"
        },
        {
         "name": "timestamp",
         "rawType": "int64",
         "type": "integer"
        },
        {
         "name": "high",
         "rawType": "float64",
         "type": "float"
        },
        {
         "name": "low",
         "rawType": "float64",
         "type": "float"
        },
        {
         "name": "close",
         "rawType": "float64",
         "type": "float"
        },
        {
         "name": "open",
         "rawType": "float64",
         "type": "float"
        },
        {
         "name": "volume",
         "rawType": "int64",
         "type": "integer"
        },
        {
         "name": "adjusted_close",
         "rawType": "float64",
         "type": "float"
        }
       ],
       "conversionMethod": "pd.DataFrame",
       "ref": "60662ad8-589f-4ba9-850c-a90a0a8e4c24",
       "rows": [
        [
         "0",
         "January 3, 1950, 2:30 PM UTC",
         "-630927000",
         "16.65999984741211",
         "16.65999984741211",
         "16.65999984741211",
         "16.65999984741211",
         "1260000",
         "16.65999984741211"
        ],
        [
         "1",
         "January 4, 1950, 2:30 PM UTC",
         "-630840600",
         "16.850000381469727",
         "16.850000381469727",
         "16.850000381469727",
         "16.850000381469727",
         "1890000",
         "16.850000381469727"
        ],
        [
         "2",
         "January 5, 1950, 2:30 PM UTC",
         "-630754200",
         "16.93000030517578",
         "16.93000030517578",
         "16.93000030517578",
         "16.93000030517578",
         "2550000",
         "16.93000030517578"
        ],
        [
         "3",
         "January 6, 1950, 2:30 PM UTC",
         "-630667800",
         "16.979999542236328",
         "16.979999542236328",
         "16.979999542236328",
         "16.979999542236328",
         "2010000",
         "16.979999542236328"
        ],
        [
         "4",
         "January 9, 1950, 2:30 PM UTC",
         "-630408600",
         "17.079999923706055",
         "17.079999923706055",
         "17.079999923706055",
         "17.079999923706055",
         "2520000",
         "17.079999923706055"
        ]
       ],
       "shape": {
        "columns": 8,
        "rows": 5
       }
      },
      "text/html": [
       "<div>\n",
       "<style scoped>\n",
       "    .dataframe tbody tr th:only-of-type {\n",
       "        vertical-align: middle;\n",
       "    }\n",
       "\n",
       "    .dataframe tbody tr th {\n",
       "        vertical-align: top;\n",
       "    }\n",
       "\n",
       "    .dataframe thead th {\n",
       "        text-align: right;\n",
       "    }\n",
       "</style>\n",
       "<table border=\"1\" class=\"dataframe\">\n",
       "  <thead>\n",
       "    <tr style=\"text-align: right;\">\n",
       "      <th></th>\n",
       "      <th>date_time</th>\n",
       "      <th>timestamp</th>\n",
       "      <th>high</th>\n",
       "      <th>low</th>\n",
       "      <th>close</th>\n",
       "      <th>open</th>\n",
       "      <th>volume</th>\n",
       "      <th>adjusted_close</th>\n",
       "    </tr>\n",
       "  </thead>\n",
       "  <tbody>\n",
       "    <tr>\n",
       "      <th>0</th>\n",
       "      <td>January 3, 1950, 2:30 PM UTC</td>\n",
       "      <td>-630927000</td>\n",
       "      <td>16.66</td>\n",
       "      <td>16.66</td>\n",
       "      <td>16.66</td>\n",
       "      <td>16.66</td>\n",
       "      <td>1260000</td>\n",
       "      <td>16.66</td>\n",
       "    </tr>\n",
       "    <tr>\n",
       "      <th>1</th>\n",
       "      <td>January 4, 1950, 2:30 PM UTC</td>\n",
       "      <td>-630840600</td>\n",
       "      <td>16.85</td>\n",
       "      <td>16.85</td>\n",
       "      <td>16.85</td>\n",
       "      <td>16.85</td>\n",
       "      <td>1890000</td>\n",
       "      <td>16.85</td>\n",
       "    </tr>\n",
       "    <tr>\n",
       "      <th>2</th>\n",
       "      <td>January 5, 1950, 2:30 PM UTC</td>\n",
       "      <td>-630754200</td>\n",
       "      <td>16.93</td>\n",
       "      <td>16.93</td>\n",
       "      <td>16.93</td>\n",
       "      <td>16.93</td>\n",
       "      <td>2550000</td>\n",
       "      <td>16.93</td>\n",
       "    </tr>\n",
       "    <tr>\n",
       "      <th>3</th>\n",
       "      <td>January 6, 1950, 2:30 PM UTC</td>\n",
       "      <td>-630667800</td>\n",
       "      <td>16.98</td>\n",
       "      <td>16.98</td>\n",
       "      <td>16.98</td>\n",
       "      <td>16.98</td>\n",
       "      <td>2010000</td>\n",
       "      <td>16.98</td>\n",
       "    </tr>\n",
       "    <tr>\n",
       "      <th>4</th>\n",
       "      <td>January 9, 1950, 2:30 PM UTC</td>\n",
       "      <td>-630408600</td>\n",
       "      <td>17.08</td>\n",
       "      <td>17.08</td>\n",
       "      <td>17.08</td>\n",
       "      <td>17.08</td>\n",
       "      <td>2520000</td>\n",
       "      <td>17.08</td>\n",
       "    </tr>\n",
       "  </tbody>\n",
       "</table>\n",
       "</div>"
      ],
      "text/plain": [
       "                      date_time  timestamp   high    low  close   open  \\\n",
       "0  January 3, 1950, 2:30 PM UTC -630927000  16.66  16.66  16.66  16.66   \n",
       "1  January 4, 1950, 2:30 PM UTC -630840600  16.85  16.85  16.85  16.85   \n",
       "2  January 5, 1950, 2:30 PM UTC -630754200  16.93  16.93  16.93  16.93   \n",
       "3  January 6, 1950, 2:30 PM UTC -630667800  16.98  16.98  16.98  16.98   \n",
       "4  January 9, 1950, 2:30 PM UTC -630408600  17.08  17.08  17.08  17.08   \n",
       "\n",
       "    volume  adjusted_close  \n",
       "0  1260000           16.66  \n",
       "1  1890000           16.85  \n",
       "2  2550000           16.93  \n",
       "3  2010000           16.98  \n",
       "4  2520000           17.08  "
      ]
     },
     "execution_count": 12,
     "metadata": {},
     "output_type": "execute_result"
    }
   ],
   "source": [
    "response_json = json.loads(response.text)\n",
    "sp = pd.DataFrame(response_json['data'])\n",
    "sp.head()"
   ]
  },
  {
   "cell_type": "markdown",
   "metadata": {},
   "source": [
    "Drop all volume entries = 0"
   ]
  },
  {
   "cell_type": "code",
   "execution_count": 49,
>>>>>>> origin/main
   "metadata": {},
   "outputs": [
    {
     "data": {
<<<<<<< HEAD
=======
      "application/vnd.microsoft.datawrangler.viewer.v0+json": {
       "columns": [
        {
         "name": "index",
         "rawType": "int64",
         "type": "integer"
        },
        {
         "name": "date_time",
         "rawType": "object",
         "type": "string"
        },
        {
         "name": "timestamp",
         "rawType": "int64",
         "type": "integer"
        },
        {
         "name": "high",
         "rawType": "float64",
         "type": "float"
        },
        {
         "name": "low",
         "rawType": "float64",
         "type": "float"
        },
        {
         "name": "close",
         "rawType": "float64",
         "type": "float"
        },
        {
         "name": "open",
         "rawType": "float64",
         "type": "float"
        },
        {
         "name": "volume",
         "rawType": "int64",
         "type": "integer"
        },
        {
         "name": "adjusted_close",
         "rawType": "float64",
         "type": "float"
        }
       ],
       "conversionMethod": "pd.DataFrame",
       "ref": "846e0ff3-2f82-4d75-a14a-70616ab8e07e",
       "rows": [
        [
         "0",
         "January 3, 1950, 2:30 PM UTC",
         "-630927000",
         "16.65999984741211",
         "16.65999984741211",
         "16.65999984741211",
         "16.65999984741211",
         "1260000",
         "16.65999984741211"
        ],
        [
         "1",
         "January 4, 1950, 2:30 PM UTC",
         "-630840600",
         "16.850000381469727",
         "16.850000381469727",
         "16.850000381469727",
         "16.850000381469727",
         "1890000",
         "16.850000381469727"
        ],
        [
         "2",
         "January 5, 1950, 2:30 PM UTC",
         "-630754200",
         "16.93000030517578",
         "16.93000030517578",
         "16.93000030517578",
         "16.93000030517578",
         "2550000",
         "16.93000030517578"
        ],
        [
         "3",
         "January 6, 1950, 2:30 PM UTC",
         "-630667800",
         "16.979999542236328",
         "16.979999542236328",
         "16.979999542236328",
         "16.979999542236328",
         "2010000",
         "16.979999542236328"
        ],
        [
         "4",
         "January 9, 1950, 2:30 PM UTC",
         "-630408600",
         "17.079999923706055",
         "17.079999923706055",
         "17.079999923706055",
         "17.079999923706055",
         "2520000",
         "17.079999923706055"
        ],
        [
         "5",
         "January 10, 1950, 2:30 PM UTC",
         "-630322200",
         "17.030000686645508",
         "17.030000686645508",
         "17.030000686645508",
         "17.030000686645508",
         "2160000",
         "17.030000686645508"
        ],
        [
         "6",
         "January 11, 1950, 2:30 PM UTC",
         "-630235800",
         "17.09000015258789",
         "17.09000015258789",
         "17.09000015258789",
         "17.09000015258789",
         "2630000",
         "17.09000015258789"
        ],
        [
         "7",
         "January 12, 1950, 2:30 PM UTC",
         "-630149400",
         "16.760000228881836",
         "16.760000228881836",
         "16.760000228881836",
         "16.760000228881836",
         "2970000",
         "16.760000228881836"
        ],
        [
         "8",
         "January 13, 1950, 2:30 PM UTC",
         "-630063000",
         "16.670000076293945",
         "16.670000076293945",
         "16.670000076293945",
         "16.670000076293945",
         "3330000",
         "16.670000076293945"
        ],
        [
         "9",
         "January 16, 1950, 2:30 PM UTC",
         "-629803800",
         "16.719999313354492",
         "16.719999313354492",
         "16.719999313354492",
         "16.719999313354492",
         "1460000",
         "16.719999313354492"
        ],
        [
         "10",
         "January 17, 1950, 2:30 PM UTC",
         "-629717400",
         "16.860000610351562",
         "16.860000610351562",
         "16.860000610351562",
         "16.860000610351562",
         "1790000",
         "16.860000610351562"
        ],
        [
         "11",
         "January 18, 1950, 2:30 PM UTC",
         "-629631000",
         "16.850000381469727",
         "16.850000381469727",
         "16.850000381469727",
         "16.850000381469727",
         "1570000",
         "16.850000381469727"
        ],
        [
         "12",
         "January 19, 1950, 2:30 PM UTC",
         "-629544600",
         "16.8700008392334",
         "16.8700008392334",
         "16.8700008392334",
         "16.8700008392334",
         "1170000",
         "16.8700008392334"
        ],
        [
         "13",
         "January 20, 1950, 2:30 PM UTC",
         "-629458200",
         "16.899999618530273",
         "16.899999618530273",
         "16.899999618530273",
         "16.899999618530273",
         "1440000",
         "16.899999618530273"
        ],
        [
         "14",
         "January 23, 1950, 2:30 PM UTC",
         "-629199000",
         "16.920000076293945",
         "16.920000076293945",
         "16.920000076293945",
         "16.920000076293945",
         "1340000",
         "16.920000076293945"
        ],
        [
         "15",
         "January 24, 1950, 2:30 PM UTC",
         "-629112600",
         "16.860000610351562",
         "16.860000610351562",
         "16.860000610351562",
         "16.860000610351562",
         "1250000",
         "16.860000610351562"
        ],
        [
         "16",
         "January 25, 1950, 2:30 PM UTC",
         "-629026200",
         "16.739999771118164",
         "16.739999771118164",
         "16.739999771118164",
         "16.739999771118164",
         "1700000",
         "16.739999771118164"
        ],
        [
         "17",
         "January 26, 1950, 2:30 PM UTC",
         "-628939800",
         "16.729999542236328",
         "16.729999542236328",
         "16.729999542236328",
         "16.729999542236328",
         "1150000",
         "16.729999542236328"
        ],
        [
         "18",
         "January 27, 1950, 2:30 PM UTC",
         "-628853400",
         "16.81999969482422",
         "16.81999969482422",
         "16.81999969482422",
         "16.81999969482422",
         "1250000",
         "16.81999969482422"
        ],
        [
         "19",
         "January 30, 1950, 2:30 PM UTC",
         "-628594200",
         "17.020000457763672",
         "17.020000457763672",
         "17.020000457763672",
         "17.020000457763672",
         "1640000",
         "17.020000457763672"
        ],
        [
         "20",
         "January 31, 1950, 2:30 PM UTC",
         "-628507800",
         "17.049999237060547",
         "17.049999237060547",
         "17.049999237060547",
         "17.049999237060547",
         "1690000",
         "17.049999237060547"
        ],
        [
         "21",
         "February 1, 1950, 2:30 PM UTC",
         "-628421400",
         "17.049999237060547",
         "17.049999237060547",
         "17.049999237060547",
         "17.049999237060547",
         "1810000",
         "17.049999237060547"
        ],
        [
         "22",
         "February 2, 1950, 2:30 PM UTC",
         "-628335000",
         "17.229999542236328",
         "17.229999542236328",
         "17.229999542236328",
         "17.229999542236328",
         "2040000",
         "17.229999542236328"
        ],
        [
         "23",
         "February 3, 1950, 2:30 PM UTC",
         "-628248600",
         "17.290000915527344",
         "17.290000915527344",
         "17.290000915527344",
         "17.290000915527344",
         "2210000",
         "17.290000915527344"
        ],
        [
         "24",
         "February 6, 1950, 2:30 PM UTC",
         "-627989400",
         "17.31999969482422",
         "17.31999969482422",
         "17.31999969482422",
         "17.31999969482422",
         "1490000",
         "17.31999969482422"
        ],
        [
         "25",
         "February 7, 1950, 2:30 PM UTC",
         "-627903000",
         "17.229999542236328",
         "17.229999542236328",
         "17.229999542236328",
         "17.229999542236328",
         "1360000",
         "17.229999542236328"
        ],
        [
         "26",
         "February 8, 1950, 2:30 PM UTC",
         "-627816600",
         "17.209999084472656",
         "17.209999084472656",
         "17.209999084472656",
         "17.209999084472656",
         "1470000",
         "17.209999084472656"
        ],
        [
         "27",
         "February 9, 1950, 2:30 PM UTC",
         "-627730200",
         "17.280000686645508",
         "17.280000686645508",
         "17.280000686645508",
         "17.280000686645508",
         "1810000",
         "17.280000686645508"
        ],
        [
         "28",
         "February 10, 1950, 2:30 PM UTC",
         "-627643800",
         "17.239999771118164",
         "17.239999771118164",
         "17.239999771118164",
         "17.239999771118164",
         "1790000",
         "17.239999771118164"
        ],
        [
         "29",
         "February 14, 1950, 2:30 PM UTC",
         "-627298200",
         "17.059999465942383",
         "17.059999465942383",
         "17.059999465942383",
         "17.059999465942383",
         "2210000",
         "17.059999465942383"
        ],
        [
         "30",
         "February 15, 1950, 2:30 PM UTC",
         "-627211800",
         "17.059999465942383",
         "17.059999465942383",
         "17.059999465942383",
         "17.059999465942383",
         "1730000",
         "17.059999465942383"
        ],
        [
         "31",
         "February 16, 1950, 2:30 PM UTC",
         "-627125400",
         "16.989999771118164",
         "16.989999771118164",
         "16.989999771118164",
         "16.989999771118164",
         "1920000",
         "16.989999771118164"
        ],
        [
         "32",
         "February 17, 1950, 2:30 PM UTC",
         "-627039000",
         "17.149999618530273",
         "17.149999618530273",
         "17.149999618530273",
         "17.149999618530273",
         "1940000",
         "17.149999618530273"
        ],
        [
         "33",
         "February 20, 1950, 2:30 PM UTC",
         "-626779800",
         "17.200000762939453",
         "17.200000762939453",
         "17.200000762939453",
         "17.200000762939453",
         "1420000",
         "17.200000762939453"
        ],
        [
         "34",
         "February 21, 1950, 2:30 PM UTC",
         "-626693400",
         "17.170000076293945",
         "17.170000076293945",
         "17.170000076293945",
         "17.170000076293945",
         "1260000",
         "17.170000076293945"
        ],
        [
         "35",
         "February 23, 1950, 2:30 PM UTC",
         "-626520600",
         "17.209999084472656",
         "17.209999084472656",
         "17.209999084472656",
         "17.209999084472656",
         "1310000",
         "17.209999084472656"
        ],
        [
         "36",
         "February 24, 1950, 2:30 PM UTC",
         "-626434200",
         "17.280000686645508",
         "17.280000686645508",
         "17.280000686645508",
         "17.280000686645508",
         "1710000",
         "17.280000686645508"
        ],
        [
         "37",
         "February 27, 1950, 2:30 PM UTC",
         "-626175000",
         "17.280000686645508",
         "17.280000686645508",
         "17.280000686645508",
         "17.280000686645508",
         "1410000",
         "17.280000686645508"
        ],
        [
         "38",
         "February 28, 1950, 2:30 PM UTC",
         "-626088600",
         "17.219999313354492",
         "17.219999313354492",
         "17.219999313354492",
         "17.219999313354492",
         "1310000",
         "17.219999313354492"
        ],
        [
         "39",
         "March 1, 1950, 2:30 PM UTC",
         "-626002200",
         "17.239999771118164",
         "17.239999771118164",
         "17.239999771118164",
         "17.239999771118164",
         "1410000",
         "17.239999771118164"
        ],
        [
         "40",
         "March 2, 1950, 2:30 PM UTC",
         "-625915800",
         "17.229999542236328",
         "17.229999542236328",
         "17.229999542236328",
         "17.229999542236328",
         "1340000",
         "17.229999542236328"
        ],
        [
         "41",
         "March 3, 1950, 2:30 PM UTC",
         "-625829400",
         "17.290000915527344",
         "17.290000915527344",
         "17.290000915527344",
         "17.290000915527344",
         "1520000",
         "17.290000915527344"
        ],
        [
         "42",
         "March 6, 1950, 2:30 PM UTC",
         "-625570200",
         "17.31999969482422",
         "17.31999969482422",
         "17.31999969482422",
         "17.31999969482422",
         "1470000",
         "17.31999969482422"
        ],
        [
         "43",
         "March 7, 1950, 2:30 PM UTC",
         "-625483800",
         "17.200000762939453",
         "17.200000762939453",
         "17.200000762939453",
         "17.200000762939453",
         "1590000",
         "17.200000762939453"
        ],
        [
         "44",
         "March 8, 1950, 2:30 PM UTC",
         "-625397400",
         "17.190000534057617",
         "17.190000534057617",
         "17.190000534057617",
         "17.190000534057617",
         "1360000",
         "17.190000534057617"
        ],
        [
         "45",
         "March 9, 1950, 2:30 PM UTC",
         "-625311000",
         "17.06999969482422",
         "17.06999969482422",
         "17.06999969482422",
         "17.06999969482422",
         "1330000",
         "17.06999969482422"
        ],
        [
         "46",
         "March 10, 1950, 2:30 PM UTC",
         "-625224600",
         "17.09000015258789",
         "17.09000015258789",
         "17.09000015258789",
         "17.09000015258789",
         "1260000",
         "17.09000015258789"
        ],
        [
         "47",
         "March 13, 1950, 2:30 PM UTC",
         "-624965400",
         "17.1200008392334",
         "17.1200008392334",
         "17.1200008392334",
         "17.1200008392334",
         "1060000",
         "17.1200008392334"
        ],
        [
         "48",
         "March 14, 1950, 2:30 PM UTC",
         "-624879000",
         "17.25",
         "17.25",
         "17.25",
         "17.25",
         "1140000",
         "17.25"
        ],
        [
         "49",
         "March 15, 1950, 2:30 PM UTC",
         "-624792600",
         "17.450000762939453",
         "17.450000762939453",
         "17.450000762939453",
         "17.450000762939453",
         "1830000",
         "17.450000762939453"
        ]
       ],
       "shape": {
        "columns": 8,
        "rows": 18932
       }
      },
>>>>>>> origin/main
      "text/html": [
       "<div>\n",
       "<style scoped>\n",
       "    .dataframe tbody tr th:only-of-type {\n",
       "        vertical-align: middle;\n",
       "    }\n",
       "\n",
       "    .dataframe tbody tr th {\n",
       "        vertical-align: top;\n",
       "    }\n",
       "\n",
       "    .dataframe thead th {\n",
       "        text-align: right;\n",
       "    }\n",
       "</style>\n",
       "<table border=\"1\" class=\"dataframe\">\n",
       "  <thead>\n",
       "    <tr style=\"text-align: right;\">\n",
       "      <th></th>\n",
       "      <th>date_time</th>\n",
       "      <th>timestamp</th>\n",
       "      <th>high</th>\n",
       "      <th>low</th>\n",
       "      <th>close</th>\n",
       "      <th>open</th>\n",
       "      <th>volume</th>\n",
       "      <th>adjusted_close</th>\n",
       "    </tr>\n",
       "  </thead>\n",
       "  <tbody>\n",
       "    <tr>\n",
       "      <th>0</th>\n",
<<<<<<< HEAD
       "      <td>December 30, 1927, 2:30 PM UTC</td>\n",
       "      <td>-1325583000</td>\n",
       "      <td>17.660000</td>\n",
       "      <td>17.660000</td>\n",
       "      <td>17.660000</td>\n",
       "      <td>17.660000</td>\n",
       "      <td>0</td>\n",
       "      <td>17.660000</td>\n",
       "    </tr>\n",
       "    <tr>\n",
       "      <th>1</th>\n",
       "      <td>January 3, 1928, 2:30 PM UTC</td>\n",
       "      <td>-1325237400</td>\n",
       "      <td>17.760000</td>\n",
       "      <td>17.760000</td>\n",
       "      <td>17.760000</td>\n",
       "      <td>17.760000</td>\n",
       "      <td>0</td>\n",
       "      <td>17.760000</td>\n",
       "    </tr>\n",
       "    <tr>\n",
       "      <th>2</th>\n",
       "      <td>January 4, 1928, 2:30 PM UTC</td>\n",
       "      <td>-1325151000</td>\n",
       "      <td>17.719999</td>\n",
       "      <td>17.719999</td>\n",
       "      <td>17.719999</td>\n",
       "      <td>17.719999</td>\n",
       "      <td>0</td>\n",
       "      <td>17.719999</td>\n",
       "    </tr>\n",
       "    <tr>\n",
       "      <th>3</th>\n",
       "      <td>January 5, 1928, 2:30 PM UTC</td>\n",
       "      <td>-1325064600</td>\n",
       "      <td>17.549999</td>\n",
       "      <td>17.549999</td>\n",
       "      <td>17.549999</td>\n",
       "      <td>17.549999</td>\n",
       "      <td>0</td>\n",
       "      <td>17.549999</td>\n",
       "    </tr>\n",
       "    <tr>\n",
       "      <th>4</th>\n",
       "      <td>January 6, 1928, 2:30 PM UTC</td>\n",
       "      <td>-1324978200</td>\n",
       "      <td>17.660000</td>\n",
       "      <td>17.660000</td>\n",
       "      <td>17.660000</td>\n",
       "      <td>17.660000</td>\n",
       "      <td>0</td>\n",
       "      <td>17.660000</td>\n",
       "    </tr>\n",
       "  </tbody>\n",
       "</table>\n",
       "</div>"
      ],
      "text/plain": [
       "                        date_time   timestamp       high        low  \\\n",
       "0  December 30, 1927, 2:30 PM UTC -1325583000  17.660000  17.660000   \n",
       "1    January 3, 1928, 2:30 PM UTC -1325237400  17.760000  17.760000   \n",
       "2    January 4, 1928, 2:30 PM UTC -1325151000  17.719999  17.719999   \n",
       "3    January 5, 1928, 2:30 PM UTC -1325064600  17.549999  17.549999   \n",
       "4    January 6, 1928, 2:30 PM UTC -1324978200  17.660000  17.660000   \n",
       "\n",
       "       close       open  volume  adjusted_close  \n",
       "0  17.660000  17.660000       0       17.660000  \n",
       "1  17.760000  17.760000       0       17.760000  \n",
       "2  17.719999  17.719999       0       17.719999  \n",
       "3  17.549999  17.549999       0       17.549999  \n",
       "4  17.660000  17.660000       0       17.660000  "
      ]
     },
     "execution_count": 16,
     "metadata": {},
     "output_type": "execute_result"
    }
   ],
   "source": [
    "response_json = json.loads(response.text)\n",
    "sp = pd.DataFrame(response_json['data'])\n",
    "sp.head()"
   ]
  },
  {
   "cell_type": "markdown",
   "metadata": {},
   "source": [
    "Drop all volume entries = 0"
   ]
  },
  {
   "cell_type": "code",
   "execution_count": 17,
   "metadata": {},
   "outputs": [
    {
     "data": {
      "text/html": [
       "<div>\n",
       "<style scoped>\n",
       "    .dataframe tbody tr th:only-of-type {\n",
       "        vertical-align: middle;\n",
       "    }\n",
       "\n",
       "    .dataframe tbody tr th {\n",
       "        vertical-align: top;\n",
       "    }\n",
       "\n",
       "    .dataframe thead th {\n",
       "        text-align: right;\n",
       "    }\n",
       "</style>\n",
       "<table border=\"1\" class=\"dataframe\">\n",
       "  <thead>\n",
       "    <tr style=\"text-align: right;\">\n",
       "      <th></th>\n",
       "      <th>date_time</th>\n",
       "      <th>timestamp</th>\n",
       "      <th>high</th>\n",
       "      <th>low</th>\n",
       "      <th>close</th>\n",
       "      <th>open</th>\n",
       "      <th>volume</th>\n",
       "      <th>adjusted_close</th>\n",
       "    </tr>\n",
       "  </thead>\n",
       "  <tbody>\n",
       "    <tr>\n",
       "      <th>5496</th>\n",
=======
>>>>>>> origin/main
       "      <td>January 3, 1950, 2:30 PM UTC</td>\n",
       "      <td>-630927000</td>\n",
       "      <td>16.660000</td>\n",
       "      <td>16.660000</td>\n",
       "      <td>16.660000</td>\n",
       "      <td>16.660000</td>\n",
       "      <td>1260000</td>\n",
       "      <td>16.660000</td>\n",
       "    </tr>\n",
       "    <tr>\n",
<<<<<<< HEAD
       "      <th>5497</th>\n",
=======
       "      <th>1</th>\n",
>>>>>>> origin/main
       "      <td>January 4, 1950, 2:30 PM UTC</td>\n",
       "      <td>-630840600</td>\n",
       "      <td>16.850000</td>\n",
       "      <td>16.850000</td>\n",
       "      <td>16.850000</td>\n",
       "      <td>16.850000</td>\n",
       "      <td>1890000</td>\n",
       "      <td>16.850000</td>\n",
       "    </tr>\n",
       "    <tr>\n",
<<<<<<< HEAD
       "      <th>5498</th>\n",
=======
       "      <th>2</th>\n",
>>>>>>> origin/main
       "      <td>January 5, 1950, 2:30 PM UTC</td>\n",
       "      <td>-630754200</td>\n",
       "      <td>16.930000</td>\n",
       "      <td>16.930000</td>\n",
       "      <td>16.930000</td>\n",
       "      <td>16.930000</td>\n",
       "      <td>2550000</td>\n",
       "      <td>16.930000</td>\n",
       "    </tr>\n",
       "    <tr>\n",
<<<<<<< HEAD
       "      <th>5499</th>\n",
=======
       "      <th>3</th>\n",
>>>>>>> origin/main
       "      <td>January 6, 1950, 2:30 PM UTC</td>\n",
       "      <td>-630667800</td>\n",
       "      <td>16.980000</td>\n",
       "      <td>16.980000</td>\n",
       "      <td>16.980000</td>\n",
       "      <td>16.980000</td>\n",
       "      <td>2010000</td>\n",
       "      <td>16.980000</td>\n",
       "    </tr>\n",
       "    <tr>\n",
<<<<<<< HEAD
       "      <th>5500</th>\n",
=======
       "      <th>4</th>\n",
>>>>>>> origin/main
       "      <td>January 9, 1950, 2:30 PM UTC</td>\n",
       "      <td>-630408600</td>\n",
       "      <td>17.080000</td>\n",
       "      <td>17.080000</td>\n",
       "      <td>17.080000</td>\n",
       "      <td>17.080000</td>\n",
       "      <td>2520000</td>\n",
       "      <td>17.080000</td>\n",
       "    </tr>\n",
       "    <tr>\n",
       "      <th>...</th>\n",
       "      <td>...</td>\n",
       "      <td>...</td>\n",
       "      <td>...</td>\n",
       "      <td>...</td>\n",
       "      <td>...</td>\n",
       "      <td>...</td>\n",
       "      <td>...</td>\n",
       "      <td>...</td>\n",
       "    </tr>\n",
       "    <tr>\n",
<<<<<<< HEAD
       "      <th>24423</th>\n",
=======
       "      <th>18925</th>\n",
       "      <td>March 24, 2025, 1:30 PM UTC</td>\n",
       "      <td>1742823000</td>\n",
       "      <td>5775.140137</td>\n",
       "      <td>5718.080078</td>\n",
       "      <td>5767.569824</td>\n",
       "      <td>5718.080078</td>\n",
       "      <td>4517990000</td>\n",
       "      <td>5767.569824</td>\n",
       "    </tr>\n",
       "    <tr>\n",
       "      <th>18926</th>\n",
       "      <td>March 25, 2025, 1:30 PM UTC</td>\n",
       "      <td>1742909400</td>\n",
       "      <td>5786.950195</td>\n",
       "      <td>5760.419922</td>\n",
       "      <td>5776.649902</td>\n",
       "      <td>5775.959961</td>\n",
       "      <td>4467340000</td>\n",
       "      <td>5776.649902</td>\n",
       "    </tr>\n",
       "    <tr>\n",
       "      <th>18927</th>\n",
>>>>>>> origin/main
       "      <td>March 26, 2025, 1:30 PM UTC</td>\n",
       "      <td>1742995800</td>\n",
       "      <td>5783.620117</td>\n",
       "      <td>5694.410156</td>\n",
       "      <td>5712.200195</td>\n",
       "      <td>5771.660156</td>\n",
       "      <td>4183140000</td>\n",
       "      <td>5712.200195</td>\n",
       "    </tr>\n",
       "    <tr>\n",
<<<<<<< HEAD
       "      <th>24424</th>\n",
=======
       "      <th>18928</th>\n",
>>>>>>> origin/main
       "      <td>March 27, 2025, 1:30 PM UTC</td>\n",
       "      <td>1743082200</td>\n",
       "      <td>5732.279785</td>\n",
       "      <td>5670.939941</td>\n",
       "      <td>5693.310059</td>\n",
       "      <td>5695.640137</td>\n",
       "      <td>4403460000</td>\n",
       "      <td>5693.310059</td>\n",
       "    </tr>\n",
       "    <tr>\n",
<<<<<<< HEAD
       "      <th>24425</th>\n",
=======
       "      <th>18929</th>\n",
>>>>>>> origin/main
       "      <td>March 28, 2025, 1:30 PM UTC</td>\n",
       "      <td>1743168600</td>\n",
       "      <td>5685.890137</td>\n",
       "      <td>5572.419922</td>\n",
       "      <td>5580.939941</td>\n",
       "      <td>5679.200195</td>\n",
       "      <td>4513330000</td>\n",
       "      <td>5580.939941</td>\n",
       "    </tr>\n",
<<<<<<< HEAD
       "    <tr>\n",
       "      <th>24426</th>\n",
       "      <td>March 31, 2025, 1:30 PM UTC</td>\n",
       "      <td>1743427800</td>\n",
       "      <td>5627.560059</td>\n",
       "      <td>5488.729980</td>\n",
       "      <td>5611.850098</td>\n",
       "      <td>5527.910156</td>\n",
       "      <td>5257250000</td>\n",
       "      <td>5611.850098</td>\n",
       "    </tr>\n",
       "    <tr>\n",
       "      <th>24427</th>\n",
       "      <td>April 1, 2025, 1:30 PM UTC</td>\n",
       "      <td>1743514200</td>\n",
       "      <td>5650.569824</td>\n",
       "      <td>5558.520020</td>\n",
       "      <td>5633.069824</td>\n",
       "      <td>5597.529785</td>\n",
       "      <td>4434500000</td>\n",
       "      <td>5633.069824</td>\n",
       "    </tr>\n",
       "  </tbody>\n",
       "</table>\n",
       "<p>18932 rows × 8 columns</p>\n",
=======
       "  </tbody>\n",
       "</table>\n",
       "<p>18930 rows × 8 columns</p>\n",
>>>>>>> origin/main
       "</div>"
      ],
      "text/plain": [
       "                          date_time   timestamp         high          low  \\\n",
<<<<<<< HEAD
       "5496   January 3, 1950, 2:30 PM UTC  -630927000    16.660000    16.660000   \n",
       "5497   January 4, 1950, 2:30 PM UTC  -630840600    16.850000    16.850000   \n",
       "5498   January 5, 1950, 2:30 PM UTC  -630754200    16.930000    16.930000   \n",
       "5499   January 6, 1950, 2:30 PM UTC  -630667800    16.980000    16.980000   \n",
       "5500   January 9, 1950, 2:30 PM UTC  -630408600    17.080000    17.080000   \n",
       "...                             ...         ...          ...          ...   \n",
       "24423   March 26, 2025, 1:30 PM UTC  1742995800  5783.620117  5694.410156   \n",
       "24424   March 27, 2025, 1:30 PM UTC  1743082200  5732.279785  5670.939941   \n",
       "24425   March 28, 2025, 1:30 PM UTC  1743168600  5685.890137  5572.419922   \n",
       "24426   March 31, 2025, 1:30 PM UTC  1743427800  5627.560059  5488.729980   \n",
       "24427    April 1, 2025, 1:30 PM UTC  1743514200  5650.569824  5558.520020   \n",
       "\n",
       "             close         open      volume  adjusted_close  \n",
       "5496     16.660000    16.660000     1260000       16.660000  \n",
       "5497     16.850000    16.850000     1890000       16.850000  \n",
       "5498     16.930000    16.930000     2550000       16.930000  \n",
       "5499     16.980000    16.980000     2010000       16.980000  \n",
       "5500     17.080000    17.080000     2520000       17.080000  \n",
       "...            ...          ...         ...             ...  \n",
       "24423  5712.200195  5771.660156  4183140000     5712.200195  \n",
       "24424  5693.310059  5695.640137  4403460000     5693.310059  \n",
       "24425  5580.939941  5679.200195  4513330000     5580.939941  \n",
       "24426  5611.850098  5527.910156  5257250000     5611.850098  \n",
       "24427  5633.069824  5597.529785  4434500000     5633.069824  \n",
       "\n",
       "[18932 rows x 8 columns]"
      ]
     },
     "execution_count": 17,
=======
       "0      January 3, 1950, 2:30 PM UTC  -630927000    16.660000    16.660000   \n",
       "1      January 4, 1950, 2:30 PM UTC  -630840600    16.850000    16.850000   \n",
       "2      January 5, 1950, 2:30 PM UTC  -630754200    16.930000    16.930000   \n",
       "3      January 6, 1950, 2:30 PM UTC  -630667800    16.980000    16.980000   \n",
       "4      January 9, 1950, 2:30 PM UTC  -630408600    17.080000    17.080000   \n",
       "...                             ...         ...          ...          ...   \n",
       "18927   March 26, 2025, 1:30 PM UTC  1742995800  5783.620117  5694.410156   \n",
       "18928   March 27, 2025, 1:30 PM UTC  1743082200  5732.279785  5670.939941   \n",
       "18929   March 28, 2025, 1:30 PM UTC  1743168600  5685.890137  5572.419922   \n",
       "18930   March 31, 2025, 1:30 PM UTC  1743427800  5627.560059  5488.729980   \n",
       "18931    April 1, 2025, 1:30 PM UTC  1743514200  5650.569824  5558.520020   \n",
       "\n",
       "             close         open      volume  adjusted_close  \n",
       "0        16.660000    16.660000     1260000       16.660000  \n",
       "1        16.850000    16.850000     1890000       16.850000  \n",
       "2        16.930000    16.930000     2550000       16.930000  \n",
       "3        16.980000    16.980000     2010000       16.980000  \n",
       "4        17.080000    17.080000     2520000       17.080000  \n",
       "...            ...          ...         ...             ...  \n",
       "18927  5712.200195  5771.660156  4183140000     5712.200195  \n",
       "18928  5693.310059  5695.640137  4403460000     5693.310059  \n",
       "18929  5580.939941  5679.200195  4513330000     5580.939941  \n",
       "18930  5611.850098  5527.910156  5257250000     5611.850098  \n",
       "18931  5633.069824  5597.529785  4434500000     5633.069824  \n",
       "\n",
       "[18932 rows x 8 columns]"
      ]
     },
     "execution_count": 49,
>>>>>>> origin/main
     "metadata": {},
     "output_type": "execute_result"
    }
   ],
   "source": [
    "sp = sp[sp['volume']!=0]\n",
    "sp\n"
   ]
  },
  {
   "cell_type": "markdown",
   "metadata": {},
   "source": [
<<<<<<< HEAD
    "This code is commented out since the rest of the data will be downloaded in batches, not via API. "
=======
    "APIs from FRED (St Louis Fed)"
>>>>>>> origin/main
   ]
  },
  {
   "cell_type": "code",
<<<<<<< HEAD
   "execution_count": 18,
   "metadata": {},
   "outputs": [],
=======
   "execution_count": null,
   "metadata": {},
   "outputs": [
    {
     "ename": "AttributeError",
     "evalue": "'Response' object has no attribute 'get'",
     "output_type": "error",
     "traceback": [
      "\u001b[1;31m---------------------------------------------------------------------------\u001b[0m",
      "\u001b[1;31mAttributeError\u001b[0m                            Traceback (most recent call last)",
      "Cell \u001b[1;32mIn[71], line 17\u001b[0m\n\u001b[0;32m      7\u001b[0m INDICATORS \u001b[38;5;241m=\u001b[39m \u001b[38;5;124m'\u001b[39m\u001b[38;5;124mT10Y2Y\u001b[39m\u001b[38;5;124m'\u001b[39m\n\u001b[0;32m      9\u001b[0m params \u001b[38;5;241m=\u001b[39m {\n\u001b[0;32m     10\u001b[0m     \u001b[38;5;124m'\u001b[39m\u001b[38;5;124mapi_key\u001b[39m\u001b[38;5;124m'\u001b[39m: API_KEY,\n\u001b[0;32m     11\u001b[0m     \u001b[38;5;124m'\u001b[39m\u001b[38;5;124mseries_id\u001b[39m\u001b[38;5;124m'\u001b[39m: INDICATOR,\n\u001b[1;32m   (...)\u001b[0m\n\u001b[0;32m     14\u001b[0m     \u001b[38;5;124m'\u001b[39m\u001b[38;5;124mobservation_end\u001b[39m\u001b[38;5;124m'\u001b[39m: end_date\n\u001b[0;32m     15\u001b[0m }\n\u001b[1;32m---> 17\u001b[0m requests \u001b[38;5;241m=\u001b[39m \u001b[43mrequests\u001b[49m\u001b[38;5;241;43m.\u001b[39;49m\u001b[43mget\u001b[49m(URL, params\u001b[38;5;241m=\u001b[39mparams)\n\u001b[0;32m     18\u001b[0m data \u001b[38;5;241m=\u001b[39m res\u001b[38;5;241m.\u001b[39mjson()\n\u001b[0;32m     19\u001b[0m data \u001b[38;5;241m=\u001b[39m data[\u001b[38;5;124m'\u001b[39m\u001b[38;5;124mobservations\u001b[39m\u001b[38;5;124m'\u001b[39m]\n",
      "\u001b[1;31mAttributeError\u001b[0m: 'Response' object has no attribute 'get'"
     ]
    }
   ],
>>>>>>> origin/main
   "source": [
    "# URL_BASE = 'https://api.stlouisfed.org/'\n",
    "# ENDPOINT = 'fred/series/observations'\n",
    "\n",
    "# URL = URL_BASE + ENDPOINT\n",
    "\n",
    "# API_KEY = '9de274aca217f6c8787ddb88fbcf323c'\n",
    "# INDICATORS = 'T10Y2Y'\n",
    "\n",
    "# params = {\n",
    "#     'api_key': API_KEY,\n",
    "#     'series_id': INDICATOR,\n",
    "#     'file_type': 'json',\n",
    "#     'observation_start': start_date,\n",
    "#     'observation_end': end_date\n",
    "# }\n",
    "\n",
    "# requests = requests.get(URL, params=params)\n",
    "# data = res.json()\n",
    "# data = data['observations']"
   ]
  },
  {
   "cell_type": "code",
<<<<<<< HEAD
   "execution_count": 19,
   "metadata": {},
   "outputs": [],
   "source": [
    "# URL_BASE = 'https://api.stlouisfed.org/'\n",
    "# ENDPOINT = 'fred/series/observations'\n",
    "\n",
    "# URL = URL_BASE + ENDPOINT\n",
    "\n",
    "# API_KEY = '9de274aca217f6c8787ddb88fbcf323c'\n",
    "# INDICATORS = ['T10Y2Y','FEDFUNDS']\n",
    "\n",
    "# params = {\n",
    "#     'api_key': API_KEY,\n",
    "#     'series_id': INDICATOR,\n",
    "#     'file_type': 'json',\n",
    "#     'observation_start': start_date,\n",
    "#     'observation_end': end_date,\n",
    "#     'frequency': 'd'\n",
    "# }\n",
    "\n",
    "# requests = requests.get(URL, params=params)\n",
    "# data = res.json()\n",
    "# data = data['observations']"
   ]
  },
  {
   "cell_type": "markdown",
   "metadata": {},
   "source": [
    "change"
=======
   "execution_count": 51,
   "metadata": {},
   "outputs": [
    {
     "ename": "NameError",
     "evalue": "name 'INDICATOR' is not defined",
     "output_type": "error",
     "traceback": [
      "\u001b[1;31m---------------------------------------------------------------------------\u001b[0m",
      "\u001b[1;31mNameError\u001b[0m                                 Traceback (most recent call last)",
      "Cell \u001b[1;32mIn[15], line 11\u001b[0m\n\u001b[0;32m      6\u001b[0m API_KEY \u001b[38;5;241m=\u001b[39m \u001b[38;5;124m'\u001b[39m\u001b[38;5;124m9de274aca217f6c8787ddb88fbcf323c\u001b[39m\u001b[38;5;124m'\u001b[39m\n\u001b[0;32m      7\u001b[0m INDICATORS \u001b[38;5;241m=\u001b[39m [\u001b[38;5;124m'\u001b[39m\u001b[38;5;124mT10Y2Y\u001b[39m\u001b[38;5;124m'\u001b[39m,\u001b[38;5;124m'\u001b[39m\u001b[38;5;124mFEDFUNDS\u001b[39m\u001b[38;5;124m'\u001b[39m]\n\u001b[0;32m      9\u001b[0m params \u001b[38;5;241m=\u001b[39m {\n\u001b[0;32m     10\u001b[0m     \u001b[38;5;124m'\u001b[39m\u001b[38;5;124mapi_key\u001b[39m\u001b[38;5;124m'\u001b[39m: API_KEY,\n\u001b[1;32m---> 11\u001b[0m     \u001b[38;5;124m'\u001b[39m\u001b[38;5;124mseries_id\u001b[39m\u001b[38;5;124m'\u001b[39m: \u001b[43mINDICATOR\u001b[49m,\n\u001b[0;32m     12\u001b[0m     \u001b[38;5;124m'\u001b[39m\u001b[38;5;124mfile_type\u001b[39m\u001b[38;5;124m'\u001b[39m: \u001b[38;5;124m'\u001b[39m\u001b[38;5;124mjson\u001b[39m\u001b[38;5;124m'\u001b[39m,\n\u001b[0;32m     13\u001b[0m     \u001b[38;5;124m'\u001b[39m\u001b[38;5;124mobservation_start\u001b[39m\u001b[38;5;124m'\u001b[39m: start_date,\n\u001b[0;32m     14\u001b[0m     \u001b[38;5;124m'\u001b[39m\u001b[38;5;124mobservation_end\u001b[39m\u001b[38;5;124m'\u001b[39m: end_date,\n\u001b[0;32m     15\u001b[0m     \u001b[38;5;124m'\u001b[39m\u001b[38;5;124mfrequency\u001b[39m\u001b[38;5;124m'\u001b[39m: \u001b[38;5;124m'\u001b[39m\u001b[38;5;124md\u001b[39m\u001b[38;5;124m'\u001b[39m\n\u001b[0;32m     16\u001b[0m }\n\u001b[0;32m     18\u001b[0m requests \u001b[38;5;241m=\u001b[39m requests\u001b[38;5;241m.\u001b[39mget(URL, params\u001b[38;5;241m=\u001b[39mparams)\n\u001b[0;32m     19\u001b[0m data \u001b[38;5;241m=\u001b[39m res\u001b[38;5;241m.\u001b[39mjson()\n",
      "\u001b[1;31mNameError\u001b[0m: name 'INDICATOR' is not defined"
     ]
    }
   ],
   "source": [
    "URL_BASE = 'https://api.stlouisfed.org/'\n",
    "ENDPOINT = 'fred/series/observations'\n",
    "\n",
    "URL = URL_BASE + ENDPOINT\n",
    "\n",
    "API_KEY = '9de274aca217f6c8787ddb88fbcf323c'\n",
    "INDICATORS = ['T10Y2Y','FEDFUNDS']\n",
    "\n",
    "params = {\n",
    "    'api_key': API_KEY,\n",
    "    'series_id': INDICATOR,\n",
    "    'file_type': 'json',\n",
    "    'observation_start': start_date,\n",
    "    'observation_end': end_date,\n",
    "    'frequency': 'd'\n",
    "}\n",
    "\n",
    "requests = requests.get(URL, params=params)\n",
    "data = res.json()\n",
    "data = data['observations']"
>>>>>>> origin/main
   ]
  }
 ],
 "metadata": {
  "kernelspec": {
   "display_name": "dtsc680AppliedML",
   "language": "python",
   "name": "python3"
  },
  "language_info": {
   "codemirror_mode": {
    "name": "ipython",
    "version": 3
   },
   "file_extension": ".py",
   "mimetype": "text/x-python",
   "name": "python",
   "nbconvert_exporter": "python",
   "pygments_lexer": "ipython3",
   "version": "3.8.20"
  }
 },
 "nbformat": 4,
 "nbformat_minor": 2
}
