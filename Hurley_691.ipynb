{
 "cells": [
  {
   "cell_type": "markdown",
   "metadata": {},
   "source": [
    "<!-- Import packages -->"
   ]
  },
  {
   "cell_type": "markdown",
   "metadata": {},
   "source": [
    "## S&P500 data"
   ]
  },
  {
   "cell_type": "markdown",
   "metadata": {},
   "source": [
    "Install packages"
   ]
  },
  {
   "cell_type": "code",
   "execution_count": 28,
   "metadata": {},
   "outputs": [
    {
     "name": "stdout",
     "output_type": "stream",
     "text": [
      "Requirement already satisfied: numpy in c:\\users\\hurle\\anaconda3\\envs\\dtsc680appliedml\\lib\\site-packages (from -r Requirements.txt (line 1)) (1.24.3)\n",
      "Requirement already satisfied: pandas in c:\\users\\hurle\\anaconda3\\envs\\dtsc680appliedml\\lib\\site-packages (from -r Requirements.txt (line 2)) (2.0.3)\n",
      "Requirement already satisfied: scikit-learn in c:\\users\\hurle\\anaconda3\\envs\\dtsc680appliedml\\lib\\site-packages (from -r Requirements.txt (line 3)) (1.3.2)\n",
      "Requirement already satisfied: matplotlib in c:\\users\\hurle\\anaconda3\\envs\\dtsc680appliedml\\lib\\site-packages (from -r Requirements.txt (line 4)) (3.2.2)\n",
      "Requirement already satisfied: requests in c:\\users\\hurle\\anaconda3\\envs\\dtsc680appliedml\\lib\\site-packages (from -r Requirements.txt (line 5)) (2.32.3)\n",
      "Requirement already satisfied: datetime in c:\\users\\hurle\\anaconda3\\envs\\dtsc680appliedml\\lib\\site-packages (from -r Requirements.txt (line 6)) (5.5)\n",
      "Requirement already satisfied: python-dateutil>=2.8.2 in c:\\users\\hurle\\anaconda3\\envs\\dtsc680appliedml\\lib\\site-packages (from pandas->-r Requirements.txt (line 2)) (2.9.0)\n",
      "Requirement already satisfied: pytz>=2020.1 in c:\\users\\hurle\\anaconda3\\envs\\dtsc680appliedml\\lib\\site-packages (from pandas->-r Requirements.txt (line 2)) (2025.1)\n",
      "Requirement already satisfied: tzdata>=2022.1 in c:\\users\\hurle\\anaconda3\\envs\\dtsc680appliedml\\lib\\site-packages (from pandas->-r Requirements.txt (line 2)) (2025.1)\n",
      "Requirement already satisfied: scipy>=1.5.0 in c:\\users\\hurle\\anaconda3\\envs\\dtsc680appliedml\\lib\\site-packages (from scikit-learn->-r Requirements.txt (line 3)) (1.10.1)\n",
      "Requirement already satisfied: joblib>=1.1.1 in c:\\users\\hurle\\anaconda3\\envs\\dtsc680appliedml\\lib\\site-packages (from scikit-learn->-r Requirements.txt (line 3)) (1.4.2)\n",
      "Requirement already satisfied: threadpoolctl>=2.0.0 in c:\\users\\hurle\\anaconda3\\envs\\dtsc680appliedml\\lib\\site-packages (from scikit-learn->-r Requirements.txt (line 3)) (3.5.0)\n",
      "Requirement already satisfied: cycler>=0.10 in c:\\users\\hurle\\anaconda3\\envs\\dtsc680appliedml\\lib\\site-packages (from matplotlib->-r Requirements.txt (line 4)) (0.12.1)\n",
      "Requirement already satisfied: kiwisolver>=1.0.1 in c:\\users\\hurle\\anaconda3\\envs\\dtsc680appliedml\\lib\\site-packages (from matplotlib->-r Requirements.txt (line 4)) (1.4.7)\n",
      "Requirement already satisfied: pyparsing!=2.0.4,!=2.1.2,!=2.1.6,>=2.0.1 in c:\\users\\hurle\\anaconda3\\envs\\dtsc680appliedml\\lib\\site-packages (from matplotlib->-r Requirements.txt (line 4)) (3.1.4)\n",
      "Requirement already satisfied: charset-normalizer<4,>=2 in c:\\users\\hurle\\anaconda3\\envs\\dtsc680appliedml\\lib\\site-packages (from requests->-r Requirements.txt (line 5)) (3.4.1)\n",
      "Requirement already satisfied: idna<4,>=2.5 in c:\\users\\hurle\\anaconda3\\envs\\dtsc680appliedml\\lib\\site-packages (from requests->-r Requirements.txt (line 5)) (3.10)\n",
      "Requirement already satisfied: urllib3<3,>=1.21.1 in c:\\users\\hurle\\anaconda3\\envs\\dtsc680appliedml\\lib\\site-packages (from requests->-r Requirements.txt (line 5)) (2.2.3)\n",
      "Requirement already satisfied: certifi>=2017.4.17 in c:\\users\\hurle\\anaconda3\\envs\\dtsc680appliedml\\lib\\site-packages (from requests->-r Requirements.txt (line 5)) (2025.1.31)\n",
      "Requirement already satisfied: zope.interface in c:\\users\\hurle\\anaconda3\\envs\\dtsc680appliedml\\lib\\site-packages (from datetime->-r Requirements.txt (line 6)) (7.2)\n",
      "Requirement already satisfied: six>=1.5 in c:\\users\\hurle\\anaconda3\\envs\\dtsc680appliedml\\lib\\site-packages (from python-dateutil>=2.8.2->pandas->-r Requirements.txt (line 2)) (1.16.0)\n",
      "Requirement already satisfied: setuptools in c:\\users\\hurle\\anaconda3\\envs\\dtsc680appliedml\\lib\\site-packages (from zope.interface->datetime->-r Requirements.txt (line 6)) (75.3.0)\n",
      "Note: you may need to restart the kernel to use updated packages.\n"
     ]
    }
   ],
   "source": [
    "pip install -r Requirements.txt"
   ]
  },
  {
   "cell_type": "markdown",
   "metadata": {},
   "source": [
    "Import libraries\n"
   ]
  },
  {
   "cell_type": "code",
   "execution_count": 29,
   "metadata": {},
   "outputs": [],
   "source": [
    "import pandas as pd\n",
    "import numpy as np\n",
    "import matplotlib as plt\n",
    "import json\n",
    "import datetime as dt\n",
    "import requests"
   ]
  },
  {
   "cell_type": "markdown",
   "metadata": {},
   "source": [
    "<!-- Create date range -->"
   ]
  },
  {
   "cell_type": "markdown",
   "metadata": {},
   "source": [
    "Create a date range"
   ]
  },
  {
   "cell_type": "code",
   "execution_count": 30,
   "metadata": {},
   "outputs": [],
   "source": [
    "end_date = dt.datetime.now()\n",
    "start_date = dt.datetime(1900, 1, 1)"
   ]
  },
  {
   "cell_type": "markdown",
   "metadata": {},
   "source": [
    "<!-- Connect to S&P500 API from RapidAPI -->"
   ]
  },
  {
   "cell_type": "markdown",
   "metadata": {},
   "source": [
    "Pull S&P500 data using API from rapidapi.com"
   ]
  },
  {
   "cell_type": "code",
   "execution_count": 31,
   "metadata": {},
   "outputs": [],
   "source": [
    "url = \"https://s-p-500-history-api.p.rapidapi.com/historical-stock-data.php\"\n",
    "\n",
    "querystring = {\"interval\":\"day\",\"symbol\":\"^GSPC\",\"start\":start_date,\"end\":end_date}\n",
    "\n",
    "headers = {\n",
    "\t\"x-rapidapi-key\": \"1818711435msh7ff1e71cfe61ec4p1b64e1jsn32c289b7a487\",\n",
    "\t\"x-rapidapi-host\": \"s-p-500-history-api.p.rapidapi.com\"\n",
    "}\n",
    "\n",
    "response = requests.get(url, headers=headers, params=querystring)\n"
   ]
  },
  {
   "cell_type": "markdown",
   "metadata": {},
   "source": [
    "<!-- Extract the 'data' dictionary from the response -->"
   ]
  },
  {
   "cell_type": "markdown",
   "metadata": {},
   "source": [
    "Extract data from json file"
   ]
  },
  {
   "cell_type": "code",
   "execution_count": 32,
   "metadata": {},
   "outputs": [
    {
     "data": {
      "application/vnd.microsoft.datawrangler.viewer.v0+json": {
       "columns": [
        {
         "name": "index",
         "rawType": "int64",
         "type": "integer"
        },
        {
         "name": "date_time",
         "rawType": "object",
         "type": "string"
        },
        {
         "name": "timestamp",
         "rawType": "int64",
         "type": "integer"
        },
        {
         "name": "high",
         "rawType": "float64",
         "type": "float"
        },
        {
         "name": "low",
         "rawType": "float64",
         "type": "float"
        },
        {
         "name": "close",
         "rawType": "float64",
         "type": "float"
        },
        {
         "name": "open",
         "rawType": "float64",
         "type": "float"
        },
        {
         "name": "volume",
         "rawType": "int64",
         "type": "integer"
        },
        {
         "name": "adjusted_close",
         "rawType": "float64",
         "type": "float"
        }
       ],
       "conversionMethod": "pd.DataFrame",
       "ref": "22a25c73-1473-4e61-aa5c-7de9c13fe696",
       "rows": [
        [
         "0",
         "December 30, 1927, 2:30 PM UTC",
         "-1325583000",
         "17.65999984741211",
         "17.65999984741211",
         "17.65999984741211",
         "17.65999984741211",
         "0",
         "17.65999984741211"
        ],
        [
         "1",
         "January 3, 1928, 2:30 PM UTC",
         "-1325237400",
         "17.760000228881836",
         "17.760000228881836",
         "17.760000228881836",
         "17.760000228881836",
         "0",
         "17.760000228881836"
        ],
        [
         "2",
         "January 4, 1928, 2:30 PM UTC",
         "-1325151000",
         "17.719999313354492",
         "17.719999313354492",
         "17.719999313354492",
         "17.719999313354492",
         "0",
         "17.719999313354492"
        ],
        [
         "3",
         "January 5, 1928, 2:30 PM UTC",
         "-1325064600",
         "17.549999237060547",
         "17.549999237060547",
         "17.549999237060547",
         "17.549999237060547",
         "0",
         "17.549999237060547"
        ],
        [
         "4",
         "January 6, 1928, 2:30 PM UTC",
         "-1324978200",
         "17.65999984741211",
         "17.65999984741211",
         "17.65999984741211",
         "17.65999984741211",
         "0",
         "17.65999984741211"
        ]
       ],
       "shape": {
        "columns": 8,
        "rows": 5
       }
      },
      "text/html": [
       "<div>\n",
       "<style scoped>\n",
       "    .dataframe tbody tr th:only-of-type {\n",
       "        vertical-align: middle;\n",
       "    }\n",
       "\n",
       "    .dataframe tbody tr th {\n",
       "        vertical-align: top;\n",
       "    }\n",
       "\n",
       "    .dataframe thead th {\n",
       "        text-align: right;\n",
       "    }\n",
       "</style>\n",
       "<table border=\"1\" class=\"dataframe\">\n",
       "  <thead>\n",
       "    <tr style=\"text-align: right;\">\n",
       "      <th></th>\n",
       "      <th>date_time</th>\n",
       "      <th>timestamp</th>\n",
       "      <th>high</th>\n",
       "      <th>low</th>\n",
       "      <th>close</th>\n",
       "      <th>open</th>\n",
       "      <th>volume</th>\n",
       "      <th>adjusted_close</th>\n",
       "    </tr>\n",
       "  </thead>\n",
       "  <tbody>\n",
       "    <tr>\n",
       "      <th>0</th>\n",
       "      <td>December 30, 1927, 2:30 PM UTC</td>\n",
       "      <td>-1325583000</td>\n",
       "      <td>17.660000</td>\n",
       "      <td>17.660000</td>\n",
       "      <td>17.660000</td>\n",
       "      <td>17.660000</td>\n",
       "      <td>0</td>\n",
       "      <td>17.660000</td>\n",
       "    </tr>\n",
       "    <tr>\n",
       "      <th>1</th>\n",
       "      <td>January 3, 1928, 2:30 PM UTC</td>\n",
       "      <td>-1325237400</td>\n",
       "      <td>17.760000</td>\n",
       "      <td>17.760000</td>\n",
       "      <td>17.760000</td>\n",
       "      <td>17.760000</td>\n",
       "      <td>0</td>\n",
       "      <td>17.760000</td>\n",
       "    </tr>\n",
       "    <tr>\n",
       "      <th>2</th>\n",
       "      <td>January 4, 1928, 2:30 PM UTC</td>\n",
       "      <td>-1325151000</td>\n",
       "      <td>17.719999</td>\n",
       "      <td>17.719999</td>\n",
       "      <td>17.719999</td>\n",
       "      <td>17.719999</td>\n",
       "      <td>0</td>\n",
       "      <td>17.719999</td>\n",
       "    </tr>\n",
       "    <tr>\n",
       "      <th>3</th>\n",
       "      <td>January 5, 1928, 2:30 PM UTC</td>\n",
       "      <td>-1325064600</td>\n",
       "      <td>17.549999</td>\n",
       "      <td>17.549999</td>\n",
       "      <td>17.549999</td>\n",
       "      <td>17.549999</td>\n",
       "      <td>0</td>\n",
       "      <td>17.549999</td>\n",
       "    </tr>\n",
       "    <tr>\n",
       "      <th>4</th>\n",
       "      <td>January 6, 1928, 2:30 PM UTC</td>\n",
       "      <td>-1324978200</td>\n",
       "      <td>17.660000</td>\n",
       "      <td>17.660000</td>\n",
       "      <td>17.660000</td>\n",
       "      <td>17.660000</td>\n",
       "      <td>0</td>\n",
       "      <td>17.660000</td>\n",
       "    </tr>\n",
       "  </tbody>\n",
       "</table>\n",
       "</div>"
      ],
      "text/plain": [
       "                        date_time   timestamp       high        low  \\\n",
       "0  December 30, 1927, 2:30 PM UTC -1325583000  17.660000  17.660000   \n",
       "1    January 3, 1928, 2:30 PM UTC -1325237400  17.760000  17.760000   \n",
       "2    January 4, 1928, 2:30 PM UTC -1325151000  17.719999  17.719999   \n",
       "3    January 5, 1928, 2:30 PM UTC -1325064600  17.549999  17.549999   \n",
       "4    January 6, 1928, 2:30 PM UTC -1324978200  17.660000  17.660000   \n",
       "\n",
       "       close       open  volume  adjusted_close  \n",
       "0  17.660000  17.660000       0       17.660000  \n",
       "1  17.760000  17.760000       0       17.760000  \n",
       "2  17.719999  17.719999       0       17.719999  \n",
       "3  17.549999  17.549999       0       17.549999  \n",
       "4  17.660000  17.660000       0       17.660000  "
      ]
     },
     "execution_count": 32,
     "metadata": {},
     "output_type": "execute_result"
    }
   ],
   "source": [
    "response_json = json.loads(response.text)\n",
    "sp = pd.DataFrame(response_json['data'])\n",
    "sp.head()"
   ]
  },
  {
   "cell_type": "markdown",
   "metadata": {},
   "source": [
    "<!-- Drop all volume entries = 0 -->"
   ]
  },
  {
   "cell_type": "markdown",
   "metadata": {},
   "source": [
    "Some of the data is missing the data from the 'volume' column. I will drop these rows."
   ]
  },
  {
   "cell_type": "code",
   "execution_count": 33,
   "metadata": {},
   "outputs": [
    {
     "data": {
      "application/vnd.microsoft.datawrangler.viewer.v0+json": {
       "columns": [
        {
         "name": "index",
         "rawType": "int64",
         "type": "integer"
        },
        {
         "name": "date_time",
         "rawType": "object",
         "type": "string"
        },
        {
         "name": "timestamp",
         "rawType": "int64",
         "type": "integer"
        },
        {
         "name": "high",
         "rawType": "float64",
         "type": "float"
        },
        {
         "name": "low",
         "rawType": "float64",
         "type": "float"
        },
        {
         "name": "close",
         "rawType": "float64",
         "type": "float"
        },
        {
         "name": "open",
         "rawType": "float64",
         "type": "float"
        },
        {
         "name": "volume",
         "rawType": "int64",
         "type": "integer"
        },
        {
         "name": "adjusted_close",
         "rawType": "float64",
         "type": "float"
        }
       ],
       "conversionMethod": "pd.DataFrame",
       "ref": "520c8a05-50bb-4526-9807-d73646dc00bd",
       "rows": [
        [
         "0",
         "January 3, 1950, 2:30 PM UTC",
         "-630927000",
         "16.65999984741211",
         "16.65999984741211",
         "16.65999984741211",
         "16.65999984741211",
         "1260000",
         "16.65999984741211"
        ],
        [
         "1",
         "January 4, 1950, 2:30 PM UTC",
         "-630840600",
         "16.850000381469727",
         "16.850000381469727",
         "16.850000381469727",
         "16.850000381469727",
         "1890000",
         "16.850000381469727"
        ],
        [
         "2",
         "January 5, 1950, 2:30 PM UTC",
         "-630754200",
         "16.93000030517578",
         "16.93000030517578",
         "16.93000030517578",
         "16.93000030517578",
         "2550000",
         "16.93000030517578"
        ],
        [
         "3",
         "January 6, 1950, 2:30 PM UTC",
         "-630667800",
         "16.979999542236328",
         "16.979999542236328",
         "16.979999542236328",
         "16.979999542236328",
         "2010000",
         "16.979999542236328"
        ],
        [
         "4",
         "January 9, 1950, 2:30 PM UTC",
         "-630408600",
         "17.079999923706055",
         "17.079999923706055",
         "17.079999923706055",
         "17.079999923706055",
         "2520000",
         "17.079999923706055"
        ],
        [
         "5",
         "January 10, 1950, 2:30 PM UTC",
         "-630322200",
         "17.030000686645508",
         "17.030000686645508",
         "17.030000686645508",
         "17.030000686645508",
         "2160000",
         "17.030000686645508"
        ],
        [
         "6",
         "January 11, 1950, 2:30 PM UTC",
         "-630235800",
         "17.09000015258789",
         "17.09000015258789",
         "17.09000015258789",
         "17.09000015258789",
         "2630000",
         "17.09000015258789"
        ],
        [
         "7",
         "January 12, 1950, 2:30 PM UTC",
         "-630149400",
         "16.760000228881836",
         "16.760000228881836",
         "16.760000228881836",
         "16.760000228881836",
         "2970000",
         "16.760000228881836"
        ],
        [
         "8",
         "January 13, 1950, 2:30 PM UTC",
         "-630063000",
         "16.670000076293945",
         "16.670000076293945",
         "16.670000076293945",
         "16.670000076293945",
         "3330000",
         "16.670000076293945"
        ],
        [
         "9",
         "January 16, 1950, 2:30 PM UTC",
         "-629803800",
         "16.719999313354492",
         "16.719999313354492",
         "16.719999313354492",
         "16.719999313354492",
         "1460000",
         "16.719999313354492"
        ],
        [
         "10",
         "January 17, 1950, 2:30 PM UTC",
         "-629717400",
         "16.860000610351562",
         "16.860000610351562",
         "16.860000610351562",
         "16.860000610351562",
         "1790000",
         "16.860000610351562"
        ],
        [
         "11",
         "January 18, 1950, 2:30 PM UTC",
         "-629631000",
         "16.850000381469727",
         "16.850000381469727",
         "16.850000381469727",
         "16.850000381469727",
         "1570000",
         "16.850000381469727"
        ],
        [
         "12",
         "January 19, 1950, 2:30 PM UTC",
         "-629544600",
         "16.8700008392334",
         "16.8700008392334",
         "16.8700008392334",
         "16.8700008392334",
         "1170000",
         "16.8700008392334"
        ],
        [
         "13",
         "January 20, 1950, 2:30 PM UTC",
         "-629458200",
         "16.899999618530273",
         "16.899999618530273",
         "16.899999618530273",
         "16.899999618530273",
         "1440000",
         "16.899999618530273"
        ],
        [
         "14",
         "January 23, 1950, 2:30 PM UTC",
         "-629199000",
         "16.920000076293945",
         "16.920000076293945",
         "16.920000076293945",
         "16.920000076293945",
         "1340000",
         "16.920000076293945"
        ],
        [
         "15",
         "January 24, 1950, 2:30 PM UTC",
         "-629112600",
         "16.860000610351562",
         "16.860000610351562",
         "16.860000610351562",
         "16.860000610351562",
         "1250000",
         "16.860000610351562"
        ],
        [
         "16",
         "January 25, 1950, 2:30 PM UTC",
         "-629026200",
         "16.739999771118164",
         "16.739999771118164",
         "16.739999771118164",
         "16.739999771118164",
         "1700000",
         "16.739999771118164"
        ],
        [
         "17",
         "January 26, 1950, 2:30 PM UTC",
         "-628939800",
         "16.729999542236328",
         "16.729999542236328",
         "16.729999542236328",
         "16.729999542236328",
         "1150000",
         "16.729999542236328"
        ],
        [
         "18",
         "January 27, 1950, 2:30 PM UTC",
         "-628853400",
         "16.81999969482422",
         "16.81999969482422",
         "16.81999969482422",
         "16.81999969482422",
         "1250000",
         "16.81999969482422"
        ],
        [
         "19",
         "January 30, 1950, 2:30 PM UTC",
         "-628594200",
         "17.020000457763672",
         "17.020000457763672",
         "17.020000457763672",
         "17.020000457763672",
         "1640000",
         "17.020000457763672"
        ],
        [
         "20",
         "January 31, 1950, 2:30 PM UTC",
         "-628507800",
         "17.049999237060547",
         "17.049999237060547",
         "17.049999237060547",
         "17.049999237060547",
         "1690000",
         "17.049999237060547"
        ],
        [
         "21",
         "February 1, 1950, 2:30 PM UTC",
         "-628421400",
         "17.049999237060547",
         "17.049999237060547",
         "17.049999237060547",
         "17.049999237060547",
         "1810000",
         "17.049999237060547"
        ],
        [
         "22",
         "February 2, 1950, 2:30 PM UTC",
         "-628335000",
         "17.229999542236328",
         "17.229999542236328",
         "17.229999542236328",
         "17.229999542236328",
         "2040000",
         "17.229999542236328"
        ],
        [
         "23",
         "February 3, 1950, 2:30 PM UTC",
         "-628248600",
         "17.290000915527344",
         "17.290000915527344",
         "17.290000915527344",
         "17.290000915527344",
         "2210000",
         "17.290000915527344"
        ],
        [
         "24",
         "February 6, 1950, 2:30 PM UTC",
         "-627989400",
         "17.31999969482422",
         "17.31999969482422",
         "17.31999969482422",
         "17.31999969482422",
         "1490000",
         "17.31999969482422"
        ],
        [
         "25",
         "February 7, 1950, 2:30 PM UTC",
         "-627903000",
         "17.229999542236328",
         "17.229999542236328",
         "17.229999542236328",
         "17.229999542236328",
         "1360000",
         "17.229999542236328"
        ],
        [
         "26",
         "February 8, 1950, 2:30 PM UTC",
         "-627816600",
         "17.209999084472656",
         "17.209999084472656",
         "17.209999084472656",
         "17.209999084472656",
         "1470000",
         "17.209999084472656"
        ],
        [
         "27",
         "February 9, 1950, 2:30 PM UTC",
         "-627730200",
         "17.280000686645508",
         "17.280000686645508",
         "17.280000686645508",
         "17.280000686645508",
         "1810000",
         "17.280000686645508"
        ],
        [
         "28",
         "February 10, 1950, 2:30 PM UTC",
         "-627643800",
         "17.239999771118164",
         "17.239999771118164",
         "17.239999771118164",
         "17.239999771118164",
         "1790000",
         "17.239999771118164"
        ],
        [
         "29",
         "February 14, 1950, 2:30 PM UTC",
         "-627298200",
         "17.059999465942383",
         "17.059999465942383",
         "17.059999465942383",
         "17.059999465942383",
         "2210000",
         "17.059999465942383"
        ],
        [
         "30",
         "February 15, 1950, 2:30 PM UTC",
         "-627211800",
         "17.059999465942383",
         "17.059999465942383",
         "17.059999465942383",
         "17.059999465942383",
         "1730000",
         "17.059999465942383"
        ],
        [
         "31",
         "February 16, 1950, 2:30 PM UTC",
         "-627125400",
         "16.989999771118164",
         "16.989999771118164",
         "16.989999771118164",
         "16.989999771118164",
         "1920000",
         "16.989999771118164"
        ],
        [
         "32",
         "February 17, 1950, 2:30 PM UTC",
         "-627039000",
         "17.149999618530273",
         "17.149999618530273",
         "17.149999618530273",
         "17.149999618530273",
         "1940000",
         "17.149999618530273"
        ],
        [
         "33",
         "February 20, 1950, 2:30 PM UTC",
         "-626779800",
         "17.200000762939453",
         "17.200000762939453",
         "17.200000762939453",
         "17.200000762939453",
         "1420000",
         "17.200000762939453"
        ],
        [
         "34",
         "February 21, 1950, 2:30 PM UTC",
         "-626693400",
         "17.170000076293945",
         "17.170000076293945",
         "17.170000076293945",
         "17.170000076293945",
         "1260000",
         "17.170000076293945"
        ],
        [
         "35",
         "February 23, 1950, 2:30 PM UTC",
         "-626520600",
         "17.209999084472656",
         "17.209999084472656",
         "17.209999084472656",
         "17.209999084472656",
         "1310000",
         "17.209999084472656"
        ],
        [
         "36",
         "February 24, 1950, 2:30 PM UTC",
         "-626434200",
         "17.280000686645508",
         "17.280000686645508",
         "17.280000686645508",
         "17.280000686645508",
         "1710000",
         "17.280000686645508"
        ],
        [
         "37",
         "February 27, 1950, 2:30 PM UTC",
         "-626175000",
         "17.280000686645508",
         "17.280000686645508",
         "17.280000686645508",
         "17.280000686645508",
         "1410000",
         "17.280000686645508"
        ],
        [
         "38",
         "February 28, 1950, 2:30 PM UTC",
         "-626088600",
         "17.219999313354492",
         "17.219999313354492",
         "17.219999313354492",
         "17.219999313354492",
         "1310000",
         "17.219999313354492"
        ],
        [
         "39",
         "March 1, 1950, 2:30 PM UTC",
         "-626002200",
         "17.239999771118164",
         "17.239999771118164",
         "17.239999771118164",
         "17.239999771118164",
         "1410000",
         "17.239999771118164"
        ],
        [
         "40",
         "March 2, 1950, 2:30 PM UTC",
         "-625915800",
         "17.229999542236328",
         "17.229999542236328",
         "17.229999542236328",
         "17.229999542236328",
         "1340000",
         "17.229999542236328"
        ],
        [
         "41",
         "March 3, 1950, 2:30 PM UTC",
         "-625829400",
         "17.290000915527344",
         "17.290000915527344",
         "17.290000915527344",
         "17.290000915527344",
         "1520000",
         "17.290000915527344"
        ],
        [
         "42",
         "March 6, 1950, 2:30 PM UTC",
         "-625570200",
         "17.31999969482422",
         "17.31999969482422",
         "17.31999969482422",
         "17.31999969482422",
         "1470000",
         "17.31999969482422"
        ],
        [
         "43",
         "March 7, 1950, 2:30 PM UTC",
         "-625483800",
         "17.200000762939453",
         "17.200000762939453",
         "17.200000762939453",
         "17.200000762939453",
         "1590000",
         "17.200000762939453"
        ],
        [
         "44",
         "March 8, 1950, 2:30 PM UTC",
         "-625397400",
         "17.190000534057617",
         "17.190000534057617",
         "17.190000534057617",
         "17.190000534057617",
         "1360000",
         "17.190000534057617"
        ],
        [
         "45",
         "March 9, 1950, 2:30 PM UTC",
         "-625311000",
         "17.06999969482422",
         "17.06999969482422",
         "17.06999969482422",
         "17.06999969482422",
         "1330000",
         "17.06999969482422"
        ],
        [
         "46",
         "March 10, 1950, 2:30 PM UTC",
         "-625224600",
         "17.09000015258789",
         "17.09000015258789",
         "17.09000015258789",
         "17.09000015258789",
         "1260000",
         "17.09000015258789"
        ],
        [
         "47",
         "March 13, 1950, 2:30 PM UTC",
         "-624965400",
         "17.1200008392334",
         "17.1200008392334",
         "17.1200008392334",
         "17.1200008392334",
         "1060000",
         "17.1200008392334"
        ],
        [
         "48",
         "March 14, 1950, 2:30 PM UTC",
         "-624879000",
         "17.25",
         "17.25",
         "17.25",
         "17.25",
         "1140000",
         "17.25"
        ],
        [
         "49",
         "March 15, 1950, 2:30 PM UTC",
         "-624792600",
         "17.450000762939453",
         "17.450000762939453",
         "17.450000762939453",
         "17.450000762939453",
         "1830000",
         "17.450000762939453"
        ]
       ],
       "shape": {
        "columns": 8,
        "rows": 18933
       }
      },
      "text/html": [
       "<div>\n",
       "<style scoped>\n",
       "    .dataframe tbody tr th:only-of-type {\n",
       "        vertical-align: middle;\n",
       "    }\n",
       "\n",
       "    .dataframe tbody tr th {\n",
       "        vertical-align: top;\n",
       "    }\n",
       "\n",
       "    .dataframe thead th {\n",
       "        text-align: right;\n",
       "    }\n",
       "</style>\n",
       "<table border=\"1\" class=\"dataframe\">\n",
       "  <thead>\n",
       "    <tr style=\"text-align: right;\">\n",
       "      <th></th>\n",
       "      <th>date_time</th>\n",
       "      <th>timestamp</th>\n",
       "      <th>high</th>\n",
       "      <th>low</th>\n",
       "      <th>close</th>\n",
       "      <th>open</th>\n",
       "      <th>volume</th>\n",
       "      <th>adjusted_close</th>\n",
       "    </tr>\n",
       "  </thead>\n",
       "  <tbody>\n",
       "    <tr>\n",
       "      <th>0</th>\n",
       "      <td>January 3, 1950, 2:30 PM UTC</td>\n",
       "      <td>-630927000</td>\n",
       "      <td>16.660000</td>\n",
       "      <td>16.660000</td>\n",
       "      <td>16.660000</td>\n",
       "      <td>16.660000</td>\n",
       "      <td>1260000</td>\n",
       "      <td>16.660000</td>\n",
       "    </tr>\n",
       "    <tr>\n",
       "      <th>1</th>\n",
       "      <td>January 4, 1950, 2:30 PM UTC</td>\n",
       "      <td>-630840600</td>\n",
       "      <td>16.850000</td>\n",
       "      <td>16.850000</td>\n",
       "      <td>16.850000</td>\n",
       "      <td>16.850000</td>\n",
       "      <td>1890000</td>\n",
       "      <td>16.850000</td>\n",
       "    </tr>\n",
       "    <tr>\n",
       "      <th>2</th>\n",
       "      <td>January 5, 1950, 2:30 PM UTC</td>\n",
       "      <td>-630754200</td>\n",
       "      <td>16.930000</td>\n",
       "      <td>16.930000</td>\n",
       "      <td>16.930000</td>\n",
       "      <td>16.930000</td>\n",
       "      <td>2550000</td>\n",
       "      <td>16.930000</td>\n",
       "    </tr>\n",
       "    <tr>\n",
       "      <th>3</th>\n",
       "      <td>January 6, 1950, 2:30 PM UTC</td>\n",
       "      <td>-630667800</td>\n",
       "      <td>16.980000</td>\n",
       "      <td>16.980000</td>\n",
       "      <td>16.980000</td>\n",
       "      <td>16.980000</td>\n",
       "      <td>2010000</td>\n",
       "      <td>16.980000</td>\n",
       "    </tr>\n",
       "    <tr>\n",
       "      <th>4</th>\n",
       "      <td>January 9, 1950, 2:30 PM UTC</td>\n",
       "      <td>-630408600</td>\n",
       "      <td>17.080000</td>\n",
       "      <td>17.080000</td>\n",
       "      <td>17.080000</td>\n",
       "      <td>17.080000</td>\n",
       "      <td>2520000</td>\n",
       "      <td>17.080000</td>\n",
       "    </tr>\n",
       "    <tr>\n",
       "      <th>...</th>\n",
       "      <td>...</td>\n",
       "      <td>...</td>\n",
       "      <td>...</td>\n",
       "      <td>...</td>\n",
       "      <td>...</td>\n",
       "      <td>...</td>\n",
       "      <td>...</td>\n",
       "      <td>...</td>\n",
       "    </tr>\n",
       "    <tr>\n",
       "      <th>18928</th>\n",
       "      <td>March 27, 2025, 1:30 PM UTC</td>\n",
       "      <td>1743082200</td>\n",
       "      <td>5732.279785</td>\n",
       "      <td>5670.939941</td>\n",
       "      <td>5693.310059</td>\n",
       "      <td>5695.640137</td>\n",
       "      <td>4403460000</td>\n",
       "      <td>5693.310059</td>\n",
       "    </tr>\n",
       "    <tr>\n",
       "      <th>18929</th>\n",
       "      <td>March 28, 2025, 1:30 PM UTC</td>\n",
       "      <td>1743168600</td>\n",
       "      <td>5685.890137</td>\n",
       "      <td>5572.419922</td>\n",
       "      <td>5580.939941</td>\n",
       "      <td>5679.200195</td>\n",
       "      <td>4513330000</td>\n",
       "      <td>5580.939941</td>\n",
       "    </tr>\n",
       "    <tr>\n",
       "      <th>18930</th>\n",
       "      <td>March 31, 2025, 1:30 PM UTC</td>\n",
       "      <td>1743427800</td>\n",
       "      <td>5627.560059</td>\n",
       "      <td>5488.729980</td>\n",
       "      <td>5611.850098</td>\n",
       "      <td>5527.910156</td>\n",
       "      <td>5257250000</td>\n",
       "      <td>5611.850098</td>\n",
       "    </tr>\n",
       "    <tr>\n",
       "      <th>18931</th>\n",
       "      <td>April 1, 2025, 1:30 PM UTC</td>\n",
       "      <td>1743514200</td>\n",
       "      <td>5650.569824</td>\n",
       "      <td>5558.520020</td>\n",
       "      <td>5633.069824</td>\n",
       "      <td>5597.529785</td>\n",
       "      <td>4434500000</td>\n",
       "      <td>5633.069824</td>\n",
       "    </tr>\n",
       "    <tr>\n",
       "      <th>18932</th>\n",
       "      <td>April 2, 2025, 6:34 PM UTC</td>\n",
       "      <td>1743618896</td>\n",
       "      <td>5695.310059</td>\n",
       "      <td>5571.479980</td>\n",
       "      <td>5641.819824</td>\n",
       "      <td>5580.759766</td>\n",
       "      <td>1628674000</td>\n",
       "      <td>5641.819824</td>\n",
       "    </tr>\n",
       "  </tbody>\n",
       "</table>\n",
       "<p>18933 rows × 8 columns</p>\n",
       "</div>"
      ],
      "text/plain": [
       "                          date_time   timestamp         high          low  \\\n",
       "0      January 3, 1950, 2:30 PM UTC  -630927000    16.660000    16.660000   \n",
       "1      January 4, 1950, 2:30 PM UTC  -630840600    16.850000    16.850000   \n",
       "2      January 5, 1950, 2:30 PM UTC  -630754200    16.930000    16.930000   \n",
       "3      January 6, 1950, 2:30 PM UTC  -630667800    16.980000    16.980000   \n",
       "4      January 9, 1950, 2:30 PM UTC  -630408600    17.080000    17.080000   \n",
       "...                             ...         ...          ...          ...   \n",
       "18928   March 27, 2025, 1:30 PM UTC  1743082200  5732.279785  5670.939941   \n",
       "18929   March 28, 2025, 1:30 PM UTC  1743168600  5685.890137  5572.419922   \n",
       "18930   March 31, 2025, 1:30 PM UTC  1743427800  5627.560059  5488.729980   \n",
       "18931    April 1, 2025, 1:30 PM UTC  1743514200  5650.569824  5558.520020   \n",
       "18932    April 2, 2025, 6:34 PM UTC  1743618896  5695.310059  5571.479980   \n",
       "\n",
       "             close         open      volume  adjusted_close  \n",
       "0        16.660000    16.660000     1260000       16.660000  \n",
       "1        16.850000    16.850000     1890000       16.850000  \n",
       "2        16.930000    16.930000     2550000       16.930000  \n",
       "3        16.980000    16.980000     2010000       16.980000  \n",
       "4        17.080000    17.080000     2520000       17.080000  \n",
       "...            ...          ...         ...             ...  \n",
       "18928  5693.310059  5695.640137  4403460000     5693.310059  \n",
       "18929  5580.939941  5679.200195  4513330000     5580.939941  \n",
       "18930  5611.850098  5527.910156  5257250000     5611.850098  \n",
       "18931  5633.069824  5597.529785  4434500000     5633.069824  \n",
       "18932  5641.819824  5580.759766  1628674000     5641.819824  \n",
       "\n",
       "[18933 rows x 8 columns]"
      ]
     },
     "execution_count": 33,
     "metadata": {},
     "output_type": "execute_result"
    }
   ],
   "source": [
    "sp = sp[sp['volume']!=0]\n",
    "sp = sp.reset_index(drop=True)\n",
    "sp"
   ]
  },
  {
   "cell_type": "markdown",
   "metadata": {},
   "source": [
    "Drop 'timestamp' and 'adjusted close' columns"
   ]
  },
  {
   "cell_type": "code",
   "execution_count": 34,
   "metadata": {},
   "outputs": [],
   "source": [
    "sp.drop(columns=['timestamp','adjusted_close'], inplace=True, axis=1)"
   ]
  },
  {
   "cell_type": "code",
   "execution_count": 35,
   "metadata": {},
   "outputs": [],
   "source": [
    "# Below is attempt at using FRED website API to pull data. I'm going to use batch downloads instead, but keeping this code in case that changes."
   ]
  },
  {
   "cell_type": "code",
   "execution_count": 36,
   "metadata": {},
   "outputs": [],
   "source": [
    "# URL_BASE = 'https://api.stlouisfed.org/'\n",
    "# ENDPOINT = 'fred/series/observations'\n",
    "\n",
    "# URL = URL_BASE + ENDPOINT\n",
    "\n",
    "# API_KEY = '9de274aca217f6c8787ddb88fbcf323c'\n",
    "# INDICATORS = 'T10Y2Y'\n",
    "\n",
    "# params = {\n",
    "#     'api_key': API_KEY,\n",
    "#     'series_id': INDICATOR,\n",
    "#     'file_type': 'json',\n",
    "#     'observation_start': start_date,\n",
    "#     'observation_end': end_date\n",
    "# }\n",
    "\n",
    "# requests = requests.get(URL, params=params)\n",
    "# data = res.json()\n",
    "# data = data['observations']"
   ]
  },
  {
   "cell_type": "code",
   "execution_count": 37,
   "metadata": {},
   "outputs": [],
   "source": [
    "# URL_BASE = 'https://api.stlouisfed.org/'\n",
    "# ENDPOINT = 'fred/series/observations'\n",
    "\n",
    "# URL = URL_BASE + ENDPOINT\n",
    "\n",
    "# API_KEY = '9de274aca217f6c8787ddb88fbcf323c'\n",
    "# INDICATORS = ['T10Y2Y','FEDFUNDS']\n",
    "\n",
    "# params = {\n",
    "#     'api_key': API_KEY,\n",
    "#     'series_id': INDICATOR,\n",
    "#     'file_type': 'json',\n",
    "#     'observation_start': start_date,\n",
    "#     'observation_end': end_date,\n",
    "#     'frequency': 'd'\n",
    "# }\n",
    "\n",
    "# requests = requests.get(URL, params=params)\n",
    "# data = res.json()\n",
    "# data = data['observations']"
   ]
  },
  {
   "cell_type": "markdown",
   "metadata": {},
   "source": []
  }
 ],
 "metadata": {
  "kernelspec": {
   "display_name": "dtsc680AppliedML",
   "language": "python",
   "name": "python3"
  },
  "language_info": {
   "codemirror_mode": {
    "name": "ipython",
    "version": 3
   },
   "file_extension": ".py",
   "mimetype": "text/x-python",
   "name": "python",
   "nbconvert_exporter": "python",
   "pygments_lexer": "ipython3",
   "version": "3.8.20"
  }
 },
 "nbformat": 4,
 "nbformat_minor": 2
}
